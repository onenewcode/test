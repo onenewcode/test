{
 "cells": [
  {
   "cell_type": "code",
   "execution_count": 13,
   "metadata": {},
   "outputs": [
    {
     "name": "stdout",
     "output_type": "stream",
     "text": [
      "tensor([[1.0000, 1.2000, 1.9000],\n",
      "        [2.3000, 3.4000, 3.9000],\n",
      "        [4.5000, 5.7000, 5.9000]])\n"
     ]
    }
   ],
   "source": [
    "import torch\n",
    "\n",
    "tensor_0 = torch.tensor(\n",
    "    [\n",
    "   [1.0, 1.2, 1.9],\n",
    "    [2.3, 3.4, 3.9],\n",
    "    [4.5, 5.7, 5.9],\n",
    "    ]\n",
    ")\n",
    "print(tensor_0)\n"
   ]
  },
  {
   "cell_type": "code",
   "execution_count": 15,
   "metadata": {},
   "outputs": [
    {
     "name": "stdout",
     "output_type": "stream",
     "text": [
      "tensor([[1.0000, 3.4000],\n",
      "        [2.3000, 5.7000]])\n"
     ]
    }
   ],
   "source": [
    "index = torch.tensor(\n",
    "    [\n",
    "    [0, 1],\n",
    "    [1, 2],\n",
    "    ]\n",
    ")\n",
    "tensor_1 = tensor_0.gather(0, index)\n",
    "print(tensor_1)"
   ]
  },
  {
   "cell_type": "code",
   "execution_count": 16,
   "metadata": {},
   "outputs": [
    {
     "name": "stdout",
     "output_type": "stream",
     "text": [
      "tensor([[1.0000, 1.2000],\n",
      "        [3.4000, 3.9000]])\n"
     ]
    }
   ],
   "source": [
    "index = torch.tensor(\n",
    "    [\n",
    "    [0, 1],\n",
    "    [1, 2],\n",
    "    ]\n",
    ")\n",
    "tensor_1 = tensor_0.gather(1, index)\n",
    "print(tensor_1)"
   ]
  }
 ],
 "metadata": {
  "kernelspec": {
   "display_name": "base",
   "language": "python",
   "name": "python3"
  },
  "language_info": {
   "codemirror_mode": {
    "name": "ipython",
    "version": 3
   },
   "file_extension": ".py",
   "mimetype": "text/x-python",
   "name": "python",
   "nbconvert_exporter": "python",
   "pygments_lexer": "ipython3",
   "version": "3.12.8"
  }
 },
 "nbformat": 4,
 "nbformat_minor": 2
}

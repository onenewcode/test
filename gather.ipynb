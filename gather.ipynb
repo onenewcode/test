{
 "cells": [
  {
   "cell_type": "code",
   "execution_count": null,
   "metadata": {},
   "outputs": [
    {
     "name": "stdout",
     "output_type": "stream",
     "text": [
      "torch.Size([16, 1, 2, 512])\n"
     ]
    }
   ],
   "source": [
    "import torch\n",
    "\n",
    "# 设置随机种子以便结果可复现\n",
    "torch.manual_seed(0)\n",
    "\n",
    "# 定义矩阵尺寸\n",
    "bsz = 16\n",
    "nt = 1\n",
    "kv_lora = 512\n",
    "\n",
    "# 随机生成两个矩阵\n",
    "matrix_a = torch.randn(bsz, nt,kv_lora)\n",
    "matrix_a =matrix_a.unsqueeze(-3)\n",
    "\n",
    "\n",
    "\n",
    "# 输出结果形状\n",
    "print(matrix_a.shape)\n",
    "\n",
    "# # 如果需要，可以将输出reshape回原始形状\n",
    "# output_reshaped = output.view(bsz, q_len, num_heads * nope_plus_rope)\n",
    "# print(output_reshaped.shape)"
   ]
  },
  {
   "cell_type": "code",
   "execution_count": 15,
   "metadata": {},
   "outputs": [
    {
     "name": "stdout",
     "output_type": "stream",
     "text": [
      "tensor([[1.0000, 3.4000],\n",
      "        [2.3000, 5.7000]])\n"
     ]
    }
   ],
   "source": [
    "index = torch.tensor(\n",
    "    [\n",
    "    [0, 1],\n",
    "    [1, 2],\n",
    "    ]\n",
    ")\n",
    "tensor_1 = tensor_0.gather(0, index)\n",
    "print(tensor_1)"
   ]
  },
  {
   "cell_type": "code",
   "execution_count": 16,
   "metadata": {},
   "outputs": [
    {
     "name": "stdout",
     "output_type": "stream",
     "text": [
      "tensor([[1.0000, 1.2000],\n",
      "        [3.4000, 3.9000]])\n"
     ]
    }
   ],
   "source": [
    "index = torch.tensor(\n",
    "    [\n",
    "    [0, 1],\n",
    "    [1, 2],\n",
    "    ]\n",
    ")\n",
    "tensor_1 = tensor_0.gather(1, index)\n",
    "print(tensor_1)"
   ]
  },
  {
   "cell_type": "markdown",
   "metadata": {},
   "source": [
    "# 爱因斯坦"
   ]
  },
  {
   "cell_type": "code",
   "execution_count": 12,
   "metadata": {},
   "outputs": [
    {
     "name": "stdout",
     "output_type": "stream",
     "text": [
      "torch.Size([2, 4])\n"
     ]
    }
   ],
   "source": [
    "import torch\n",
    "a = torch.rand(2,3)\n",
    "b = torch.rand(3,4)\n",
    "c = torch.einsum(\"ik,kj->ij\", [a, b])\n",
    "print(c.shape)"
   ]
  },
  {
   "cell_type": "code",
   "execution_count": 13,
   "metadata": {},
   "outputs": [
    {
     "name": "stdout",
     "output_type": "stream",
     "text": [
      "torch.Size([6, 5, 6])\n",
      "torch.Size([2, 3, 4, 6])\n"
     ]
    }
   ],
   "source": [
    "import torch\n",
    "\n",
    "# 假设 b=2, h=3, q=4, l=5, c=6 作为例子\n",
    "b, h, q, l, c = 2, 3, 4, 5, 6\n",
    "\n",
    "# 创建示例张量\n",
    "attn_weights = torch.randn(b, h, q, l)\n",
    "compressed_kv = torch.randn(b, l, c)\n",
    "\n",
    "# 实现步骤\n",
    "# 第一步：调整attn_weights的形状以适应bmm (batch matrix multiplication)\n",
    "# 将attn_weights从(b, h, q, l)转换为(b*h, q, l)，这样可以对每个head分别应用bmm\n",
    "attn_weights_reshaped = attn_weights.reshape(b*h, q, l)\n",
    "\n",
    "# 第二步：调整compressed_kv以匹配attn_weights_reshaped的batch维度\n",
    "# 我们需要将compressed_kv重复h次，因为对于每个head我们都需要做一次bmm\n",
    "compressed_kv_expanded = compressed_kv.unsqueeze(1).expand(-1, h, -1, -1).reshape(b*h, l, c)\n",
    "print(compressed_kv_expanded.shape)\n",
    "\n",
    "# 第三步：执行批处理矩阵乘法\n",
    "output = torch.bmm(attn_weights_reshaped, compressed_kv_expanded)\n",
    "\n",
    "# 第四步：重塑输出到正确的形状(b, h, q, c)\n",
    "output = output.reshape(b, h, q, c)\n",
    "\n",
    "print(output.shape)  # 应该打印出 torch.Size([2, 3, 4, 6])"
   ]
  }
 ],
 "metadata": {
  "kernelspec": {
   "display_name": "Python 3",
   "language": "python",
   "name": "python3"
  },
  "language_info": {
   "codemirror_mode": {
    "name": "ipython",
    "version": 3
   },
   "file_extension": ".py",
   "mimetype": "text/x-python",
   "name": "python",
   "nbconvert_exporter": "python",
   "pygments_lexer": "ipython3",
   "version": "3.10.1"
  }
 },
 "nbformat": 4,
 "nbformat_minor": 2
}

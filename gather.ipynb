{
 "cells": [
  {
   "cell_type": "code",
   "execution_count": null,
   "metadata": {},
   "outputs": [
    {
     "name": "stdout",
     "output_type": "stream",
     "text": [
      "torch.Size([16, 1, 2, 512])\n"
     ]
    }
   ],
   "source": [
    "import torch\n",
    "\n",
    "# 设置随机种子以便结果可复现\n",
    "torch.manual_seed(0)\n",
    "\n",
    "# 定义矩阵尺寸\n",
    "bsz = 16\n",
    "nt = 1\n",
    "kv_lora = 512\n",
    "\n",
    "# 随机生成两个矩阵\n",
    "matrix_a = torch.randn(bsz, nt,kv_lora)\n",
    "matrix_a =matrix_a.unsqueeze(-3)\n",
    "\n",
    "\n",
    "\n",
    "# 输出结果形状\n",
    "print(matrix_a.shape)\n",
    "\n",
    "# # 如果需要，可以将输出reshape回原始形状\n",
    "# output_reshaped = output.view(bsz, q_len, num_heads * nope_plus_rope)\n",
    "# print(output_reshaped.shape)"
   ]
  },
  {
   "cell_type": "code",
   "execution_count": 4,
   "metadata": {},
   "outputs": [
    {
     "name": "stdout",
     "output_type": "stream",
     "text": [
      "torch.Size([16, 1, 512])\n"
     ]
    }
   ],
   "source": [
    "import torch\n",
    "\n",
    "\n",
    "torch.manual_seed(0)\n",
    "\n",
    "# 定义矩阵尺寸\n",
    "nh = 16\n",
    "nt = 1\n",
    "nope=64\n",
    "kv_lora = 512\n",
    "\n",
    "# 随机生成两个矩阵\n",
    "matrix_a = torch.randn(nh, nt,nope)\n",
    "matrix_b =torch.randn(nh, nope,kv_lora)\n",
    "\n",
    "\n",
    "\n",
    "\n",
    "# 输出结果形状\n",
    "print(torch.matmul(matrix_a,matrix_b).shape)\n",
    "\n",
    "# # 如果需要，可以将输出reshape回原始形状\n",
    "# output_reshaped = output.view(bsz, q_len, num_heads * nope_plus_rope)\n",
    "# print(output_reshaped.shape)"
   ]
  },
  {
   "cell_type": "code",
   "execution_count": 8,
   "metadata": {},
   "outputs": [
    {
     "name": "stdout",
     "output_type": "stream",
     "text": [
      "torch.Size([2, 1, 16, 64])\n"
     ]
    }
   ],
   "source": [
    "import torch\n",
    "\n",
    "\n",
    "torch.manual_seed(0)\n",
    "\n",
    "# 定义矩阵尺寸\n",
    "bsz=2\n",
    "nh = 16\n",
    "nt = 1\n",
    "nope=64\n",
    "kv_lora = 512\n",
    "\n",
    "# 随机生成两个矩阵\n",
    "matrix_a = torch.randn(bsz,nh, nt,nope)\n",
    "\n",
    "\n",
    "\n",
    "\n",
    "\n",
    "# 输出结果形状\n",
    "print(matrix_a.transpose(1,2).shape)\n",
    "\n",
    "# # 如果需要，可以将输出reshape回原始形状\n",
    "# output_reshaped = output.view(bsz, q_len, num_heads * nope_plus_rope)\n",
    "# print(output_reshaped.shape)"
   ]
  },
  {
   "cell_type": "markdown",
   "metadata": {},
   "source": [
    "# 爱因斯坦"
   ]
  },
  {
   "cell_type": "code",
   "execution_count": 12,
   "metadata": {},
   "outputs": [
    {
     "name": "stdout",
     "output_type": "stream",
     "text": [
      "torch.Size([2, 4])\n"
     ]
    }
   ],
   "source": [
    "import torch\n",
    "a = torch.rand(2,3)\n",
    "b = torch.rand(3,4)\n",
    "c = torch.einsum(\"ik,kj->ij\", [a, b])\n",
    "print(c.shape)"
   ]
  },
  {
   "cell_type": "code",
   "execution_count": 7,
   "metadata": {},
   "outputs": [
    {
     "name": "stdout",
     "output_type": "stream",
     "text": [
      "True\n"
     ]
    }
   ],
   "source": [
    "import torch\n",
    "\n",
    "# 假设 b=2, h=3, q=4, l=5, c=6 作为例子\n",
    "b, h, q, l, c = 2, 3, 4, 5, 6\n",
    "\n",
    "# 创建示例张量\n",
    "attn_weights = torch.randn(b, h, q, l)\n",
    "compressed_kv = torch.randn(b, l, c)\n",
    "\n",
    "result=torch.einsum('bhql,blc->bhqc', attn_weights, compressed_kv)\n",
    "\n",
    "compressed_kv_expanded = compressed_kv.unsqueeze(1)  # 形状变为 [bsz, 1, nt, dkv_lora]\n",
    "\n",
    "# 执行批量矩阵乘法\n",
    "attn_output = torch.matmul(attn_weights, compressed_kv_expanded)  # 输出形状 [bsz, nh, nt,\n",
    "\n",
    "print(torch.equal(result,attn_output))  # 应该打印出 torch.Size([2, 3, 4, 6])"
   ]
  }
 ],
 "metadata": {
  "kernelspec": {
   "display_name": "Python 3",
   "language": "python",
   "name": "python3"
  },
  "language_info": {
   "codemirror_mode": {
    "name": "ipython",
    "version": 3
   },
   "file_extension": ".py",
   "mimetype": "text/x-python",
   "name": "python",
   "nbconvert_exporter": "python",
   "pygments_lexer": "ipython3",
   "version": "3.10.1"
  }
 },
 "nbformat": 4,
 "nbformat_minor": 2
}

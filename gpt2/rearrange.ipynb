{
 "cells": [
  {
   "cell_type": "code",
   "execution_count": 6,
   "metadata": {},
   "outputs": [
    {
     "name": "stdout",
     "output_type": "stream",
     "text": [
      "torch.Size([32, 30, 40, 3])\n",
      "torch.Size([960, 40, 3])\n",
      "torch.Size([30, 1280, 3])\n",
      "torch.Size([32, 3, 30, 40])\n",
      "torch.Size([32, 3600])\n",
      "torch.Size([128, 15, 20, 3])\n",
      "torch.Size([32, 15, 20, 12])\n"
     ]
    }
   ],
   "source": [
    "import torch\n",
    "from einops import rearrange\n",
    " \n",
    "images = torch.randn((32,30,40,3))\n",
    "# (32, 30, 40, 3)\n",
    "print(rearrange(images, 'b h w c -> b h w c').shape)\n",
    " \n",
    "# (960, 40, 3)\n",
    "print(rearrange(images, 'b h w c -> (b h) w c').shape)\n",
    " \n",
    "# (30, 1280, 3)\n",
    "print(rearrange(images, 'b h w c -> h (b w) c').shape)\n",
    " \n",
    "# (32, 3, 30, 40)\n",
    "print(rearrange(images, 'b h w c -> b c h w').shape)\n",
    " \n",
    "# (32, 3600)\n",
    "print(rearrange(images, 'b h w c -> b (c h w)').shape)\n",
    " \n",
    "# ---------------------------------------------\n",
    "# 这里(h h1) (w w1)就相当于h与w变为原来的1/h1,1/w1倍\n",
    " \n",
    "# (128, 15, 20, 3)\n",
    "print(rearrange(images, 'b (h h1) (w w1) c -> (b h1 w1) h w c', h1=2, w1=2).shape)\n",
    " \n",
    "# (32, 15, 20, 12)\n",
    "print(rearrange(images, 'b (h h1) (w w1) c -> b h w (c h1 w1)', h1=2, w1=2).shape)"
   ]
  }
 ],
 "metadata": {
  "kernelspec": {
   "display_name": "base",
   "language": "python",
   "name": "python3"
  },
  "language_info": {
   "codemirror_mode": {
    "name": "ipython",
    "version": 3
   },
   "file_extension": ".py",
   "mimetype": "text/x-python",
   "name": "python",
   "nbconvert_exporter": "python",
   "pygments_lexer": "ipython3",
   "version": "3.12.8"
  }
 },
 "nbformat": 4,
 "nbformat_minor": 2
}
